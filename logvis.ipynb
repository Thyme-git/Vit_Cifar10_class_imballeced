{
 "cells": [
  {
   "cell_type": "code",
   "execution_count": 8,
   "metadata": {},
   "outputs": [
    {
     "name": "stdout",
     "output_type": "stream",
     "text": [
      "501 501\n"
     ]
    }
   ],
   "source": [
    "import numpy as np\n",
    "\n",
    "train_acc = []\n",
    "valid_acc = []\n",
    "\n",
    "name = 16\n",
    "log_path = f\"exp/2.3/num_heads_{name}/logs/log.txt\"\n",
    "\n",
    "with open(log_path, \"r\") as f:\n",
    "    for _ in range(500):\n",
    "        f.readline()\n",
    "\n",
    "    while line := f.readline():\n",
    "        train_acc.append(float(line.split(\" \")[-1]))\n",
    "        line = f.readline()\n",
    "        valid_acc.append(float(line.split(\" \")[-1]))\n",
    "\n",
    "train_acc = np.array(train_acc)\n",
    "valid_acc = np.array(valid_acc)\n",
    "\n",
    "print(len(train_acc), len(valid_acc))"
   ]
  },
  {
   "cell_type": "code",
   "execution_count": 9,
   "metadata": {},
   "outputs": [],
   "source": [
    "import matplotlib.pyplot as plt\n",
    "\n",
    "plt.title(f\"Num Heads {name}\")\n",
    "plt.plot(train_acc, label=\"train\")\n",
    "plt.plot(valid_acc, label=\"valid\")\n",
    "plt.xlabel(\"Epoch\")\n",
    "plt.ylabel(\"Accuracy\")\n",
    "plt.ylim(0, 1)\n",
    "plt.yticks(np.arange(0, 1.1, 0.1))\n",
    "plt.grid()\n",
    "plt.legend()\n",
    "# plt.show()\n",
    "plt.savefig(f\"../report3/image/report3/nh_{name}.png\")\n",
    "plt.close()"
   ]
  }
 ],
 "metadata": {
  "kernelspec": {
   "display_name": "nyw-base",
   "language": "python",
   "name": "python3"
  },
  "language_info": {
   "codemirror_mode": {
    "name": "ipython",
    "version": 3
   },
   "file_extension": ".py",
   "mimetype": "text/x-python",
   "name": "python",
   "nbconvert_exporter": "python",
   "pygments_lexer": "ipython3",
   "version": "3.11.5"
  }
 },
 "nbformat": 4,
 "nbformat_minor": 2
}
